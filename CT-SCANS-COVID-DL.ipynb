{
 "cells": [
  {
   "cell_type": "markdown",
   "metadata": {},
   "source": [
    "## Imports"
   ]
  },
  {
   "cell_type": "code",
   "execution_count": 1,
   "metadata": {},
   "outputs": [],
   "source": [
    "%matplotlib inline\n",
    "import pickle\n",
    "import tensorflow as tf\n",
    "import matplotlib.pyplot as plt\n",
    "import numpy as np\n",
    "import time\n",
    "from datetime import timedelta\n",
    "import math\n",
    "import sys"
   ]
  },
  {
   "cell_type": "markdown",
   "metadata": {},
   "source": [
    "## Load Data"
   ]
  },
  {
   "cell_type": "code",
   "execution_count": 2,
   "metadata": {},
   "outputs": [],
   "source": [
    "# Read the data from pickle file\n",
    "pickle_in = open(\"X.pickle\", \"rb\")\n",
    "X = pickle.load(pickle_in)\n",
    "\n",
    "pickle_in = open(\"y.pickle\", \"rb\")\n",
    "y = pickle.load(pickle_in)"
   ]
  },
  {
   "cell_type": "markdown",
   "metadata": {},
   "source": [
    "## Explore and Visualize Data"
   ]
  },
  {
   "cell_type": "code",
   "execution_count": 3,
   "metadata": {},
   "outputs": [
    {
     "data": {
      "text/plain": [
       "((746, 100, 100, 1), (746, 1))"
      ]
     },
     "execution_count": 3,
     "metadata": {},
     "output_type": "execute_result"
    }
   ],
   "source": [
    "X.shape, y.shape"
   ]
  },
  {
   "cell_type": "code",
   "execution_count": 4,
   "metadata": {},
   "outputs": [
    {
     "data": {
      "text/plain": [
       "(dtype('float64'), dtype('int32'))"
      ]
     },
     "execution_count": 4,
     "metadata": {},
     "output_type": "execute_result"
    }
   ],
   "source": [
    "# Let's check the data types - TensorFlow requires float32 and/or int32\n",
    "X.dtype, y.dtype"
   ]
  },
  {
   "cell_type": "code",
   "execution_count": 5,
   "metadata": {},
   "outputs": [],
   "source": [
    "X = X.astype('float32')"
   ]
  },
  {
   "cell_type": "code",
   "execution_count": 6,
   "metadata": {},
   "outputs": [
    {
     "name": "stdout",
     "output_type": "stream",
     "text": [
      "The Memory size of the data = 29840144 KBs\n"
     ]
    }
   ],
   "source": [
    "print(\"The Memory size of the data = {} KBs\".format(int(sys.getsizeof(X))))"
   ]
  },
  {
   "cell_type": "code",
   "execution_count": 7,
   "metadata": {},
   "outputs": [
    {
     "data": {
      "image/png": "[encoded data removed]",
      "text/plain": [
       "<Figure size 432x288 with 1 Axes>"
      ]
     },
     "metadata": {
      "needs_background": "light"
     },
     "output_type": "display_data"
    }
   ],
   "source": [
    "_ = plt.imshow(X[2].reshape(100, 100), cmap='gray')\n",
    "plt.show()"
   ]
  },
  {
   "cell_type": "markdown",
   "metadata": {},
   "source": [
    "## Data Dimensions"
   ]
  },
  {
   "cell_type": "code",
   "execution_count": 8,
   "metadata": {},
   "outputs": [],
   "source": [
    "# We know that the images are 100 pixels by 100 pixels\n",
    "img_size = 100\n",
    "\n",
    "# Images are stored in one-dimensional arrays of this length\n",
    "img_size_flat = img_size*img_size\n",
    "\n",
    "# Height and width of each image in Tuple\n",
    "img_shape = (img_size, img_size)\n",
    "\n",
    "# Number of color channels for the image: 1 channel for gray-scale\n",
    "num_channels = 1\n",
    "\n",
    "# Number of classes - two classes, covid positive or covid negative\n",
    "num_classes = 2"
   ]
  },
  {
   "cell_type": "markdown",
   "metadata": {},
   "source": [
    "## Network Architecture"
   ]
  },
  {
   "cell_type": "markdown",
   "metadata": {},
   "source": [
    "Input: images with 100 x 100 pixels grayscale\n",
    "1. Layer: Conv1 -> ReLu -> MaxPool: [.,50,50,16] \n",
    "2. Layer: Conv2 -> ReLu -> MaxPool: [.,25,25,32]\n",
    "3. Layer: FC -> ReLu: [.,1024]\n",
    "4. Layer: FC -> ReLu: [.,2]"
   ]
  },
  {
   "cell_type": "markdown",
   "metadata": {},
   "source": [
    "## Hyperparameters of Neural Network"
   ]
  },
  {
   "cell_type": "code",
   "execution_count": 9,
   "metadata": {},
   "outputs": [],
   "source": [
    "# Convolutional layer 1\n",
    "filter1_size = 3  #Convolution filters are 3 x 3 pixels\n",
    "num_filters1 = 16 #There are 16 of these filters\n",
    "\n",
    "# Convolutional layer 2\n",
    "filter2_size = 3 #Convolution filters are 3 x 3 pixels\n",
    "num_filters2 = 32 #There are 32 of these filters\n",
    "\n",
    "# Pooling\n",
    "window_size = 2 #Pooling window 2x2\n",
    "window_stride = 2 #Move by 2 strides\n",
    "\n",
    "# Fully-connected layer\n",
    "fc_size=1024     # Number of nodes in the fully-connected layer\n",
    "\n",
    "# Convolution stride\n",
    "conv_stride=1"
   ]
  },
  {
   "cell_type": "markdown",
   "metadata": {},
   "source": [
    "## Training and Test sets"
   ]
  },
  {
   "cell_type": "code",
   "execution_count": 10,
   "metadata": {},
   "outputs": [
    {
     "data": {
      "text/plain": [
       "((746, 100, 100, 1), (746, 1))"
      ]
     },
     "execution_count": 10,
     "metadata": {},
     "output_type": "execute_result"
    }
   ],
   "source": [
    "X.shape, y.shape"
   ]
  },
  {
   "cell_type": "code",
   "execution_count": 11,
   "metadata": {},
   "outputs": [],
   "source": [
    "# Split the dataset into 70% (522 ea images) training and 30% (246 ea images) test sets\n",
    "X_train = X[:523]\n",
    "X_test = X[523:]\n",
    "y_train = y[:523]\n",
    "y_test = y[523:]"
   ]
  },
  {
   "cell_type": "code",
   "execution_count": 12,
   "metadata": {},
   "outputs": [
    {
     "data": {
      "text/plain": [
       "((523, 100, 100, 1), (223, 100, 100, 1), (523, 1), (223, 1))"
      ]
     },
     "execution_count": 12,
     "metadata": {},
     "output_type": "execute_result"
    }
   ],
   "source": [
    "X_train.shape, X_test.shape, y_train.shape, y_test.shape"
   ]
  },
  {
   "cell_type": "markdown",
   "metadata": {},
   "source": [
    "## Helper function for Creating Weights"
   ]
  },
  {
   "cell_type": "code",
   "execution_count": 13,
   "metadata": {},
   "outputs": [],
   "source": [
    "def weights(shape):\n",
    "    weights = tf.Variable(tf.random.normal(shape=shape, stddev=0.05))\n",
    "    return weights"
   ]
  },
  {
   "cell_type": "markdown",
   "metadata": {},
   "source": [
    "## ConvNet1"
   ]
  },
  {
   "cell_type": "code",
   "execution_count": 14,
   "metadata": {},
   "outputs": [],
   "source": [
    "shape_1 = [filter1_size, filter1_size, num_channels, num_filters1]\n",
    "shape_bias1 = [num_channels, img_size, img_size, num_filters1]\n",
    "conv1_weights = weights(shape_1)\n",
    "bias_1 = tf.Variable(tf.ones(shape=shape_bias1))"
   ]
  },
  {
   "cell_type": "code",
   "execution_count": 15,
   "metadata": {},
   "outputs": [],
   "source": [
    "def ConvNet1(image):\n",
    "    # Conv1 layer\n",
    "    conv1 = tf.nn.conv2d(input=image, filters=conv1_weights, strides=conv_stride, padding='SAME')\n",
    "    conv1+=bias_1\n",
    "    conv1 = tf.nn.relu(conv1)\n",
    "    conv1 = tf.nn.max_pool(input=conv1, ksize=window_size, strides=window_stride, padding='SAME')\n",
    "    return conv1"
   ]
  },
  {
   "cell_type": "markdown",
   "metadata": {},
   "source": [
    "## ConvNet2"
   ]
  },
  {
   "cell_type": "code",
   "execution_count": 16,
   "metadata": {},
   "outputs": [],
   "source": [
    "shape_2 = [filter2_size, filter2_size, num_filters1, num_filters2]\n",
    "shape_bias2 = [num_channels, img_size//2, img_size//2, num_filters2]\n",
    "conv2_weights = weights(shape_2)\n",
    "bias_2 = tf.Variable(tf.ones(shape=shape_bias2))"
   ]
  },
  {
   "cell_type": "code",
   "execution_count": 17,
   "metadata": {},
   "outputs": [],
   "source": [
    "def ConvNet2(conv1):\n",
    "    # Conv2 Layer\n",
    "    conv2 = tf.nn.conv2d(input=conv1, filters=conv2_weights, strides=conv_stride, padding='SAME')\n",
    "    conv2+=bias_2\n",
    "    conv2 = tf.nn.relu(conv2)\n",
    "    conv2 = tf.nn.max_pool(input=conv2, ksize=window_size, strides=window_stride, padding='SAME')\n",
    "    return conv2"
   ]
  },
  {
   "cell_type": "markdown",
   "metadata": {},
   "source": [
    "## Flatten Layer"
   ]
  },
  {
   "cell_type": "code",
   "execution_count": 18,
   "metadata": {},
   "outputs": [],
   "source": [
    "def flatten_layer(conv2):\n",
    "    layer_shape = conv2.get_shape()\n",
    "    num_features = layer_shape[1:4].num_elements()\n",
    "    flat_layer = tf.reshape(conv2, [-1, num_features])\n",
    "    return flat_layer, num_features"
   ]
  },
  {
   "cell_type": "markdown",
   "metadata": {},
   "source": [
    "__NOTE__: For each image, there are 20000 features!"
   ]
  },
  {
   "cell_type": "markdown",
   "metadata": {},
   "source": [
    "## Fully Connected Layer"
   ]
  },
  {
   "cell_type": "code",
   "execution_count": 19,
   "metadata": {},
   "outputs": [],
   "source": [
    "# Fully connected layer\n",
    "num_features=20000 \n",
    "fc_shape = [num_features, fc_size]\n",
    "fc_weights = tf.Variable(tf.random.normal(shape=fc_shape))\n",
    "bias_fc = tf.Variable(tf.ones([fc_size]))\n",
    "# Output layer\n",
    "shape_out = [fc_size, num_classes]\n",
    "w_out = tf.Variable(tf.random.normal(shape=shape_out))\n",
    "b_out = tf.Variable(tf.ones([num_classes]))"
   ]
  },
  {
   "cell_type": "code",
   "execution_count": 20,
   "metadata": {},
   "outputs": [
    {
     "data": {
      "text/plain": [
       "TensorShape([20000, 1024])"
      ]
     },
     "execution_count": 20,
     "metadata": {},
     "output_type": "execute_result"
    }
   ],
   "source": [
    "fc_weights.shape"
   ]
  },
  {
   "cell_type": "markdown",
   "metadata": {},
   "source": [
    "__NOTE__: For each of the 20000 features, there are 1024 weights! So that is 20,480,000 trainable weights!"
   ]
  },
  {
   "cell_type": "code",
   "execution_count": 21,
   "metadata": {},
   "outputs": [],
   "source": [
    "def make_prediction(flat_layer, fc_weights, bias_fc, w_out, b_out):\n",
    "    #Fully connected layer\n",
    "    fc_product = tf.matmul(flat_layer, fc_weights)\n",
    "    fully_connected = tf.keras.activations.relu(fc_product+bias_fc)\n",
    "    fc_drop = tf.nn.dropout(fully_connected, rate=0.7, seed=1) # Drop 70% of the input elements randomly\n",
    "    # Output layer\n",
    "    output = tf.matmul(fc_drop, w_out)\n",
    "    prediction = tf.keras.activations.softmax(output + b_out)\n",
    "    return prediction"
   ]
  },
  {
   "cell_type": "code",
   "execution_count": 22,
   "metadata": {},
   "outputs": [],
   "source": [
    "def model(image):\n",
    "    conv1 = ConvNet1(image)\n",
    "    conv2 = ConvNet2(conv1)\n",
    "    flat_layer, num_features = flatten_layer(conv2)\n",
    "    predictions = make_prediction(flat_layer, fc_weights, bias_fc, w_out, b_out)\n",
    "    return predictions"
   ]
  },
  {
   "cell_type": "markdown",
   "metadata": {},
   "source": [
    "## Compile and Train the Model"
   ]
  },
  {
   "cell_type": "code",
   "execution_count": 23,
   "metadata": {},
   "outputs": [],
   "source": [
    "optimizer = tf.keras.optimizers.Adam()"
   ]
  },
  {
   "cell_type": "code",
   "execution_count": 24,
   "metadata": {},
   "outputs": [],
   "source": [
    "# Instantiate a loss function.\n",
    "loss_fn = tf.keras.losses.SparseCategoricalCrossentropy(from_logits=True)"
   ]
  },
  {
   "cell_type": "code",
   "execution_count": 25,
   "metadata": {},
   "outputs": [],
   "source": [
    "# Prepare the metrics.\n",
    "train_acc_metric = tf.keras.metrics.SparseCategoricalAccuracy()\n",
    "test_acc_metric = tf.keras.metrics.SparseCategoricalAccuracy()"
   ]
  },
  {
   "cell_type": "code",
   "execution_count": 26,
   "metadata": {},
   "outputs": [],
   "source": [
    "# Package the data into batches\n",
    "batch_size=16\n",
    "train_ds = tf.data.Dataset.from_tensor_slices((X_train, y_train)).shuffle(1024).batch(batch_size)\n",
    "test_ds = tf.data.Dataset.from_tensor_slices((X_test, y_test)).shuffle(1024).batch(batch_size)"
   ]
  },
  {
   "cell_type": "code",
   "execution_count": 97,
   "metadata": {},
   "outputs": [
    {
     "name": "stdout",
     "output_type": "stream",
     "text": [
      "\n",
      "Start of epoch 1\n",
      "Training loss (for one batch) at step 16: 1.0008\n",
      "Seen so far: 544 samples\n",
      "Training acc (for one batch): 0.4522\n",
      "Training loss (for one batch) at step 32: 0.8587\n",
      "Seen so far: 1056 samples\n",
      "Training acc (for one batch): 0.4627\n",
      "Test acc: 0.4653\n",
      "\n",
      "Start of epoch 2\n",
      "Training loss (for one batch) at step 16: 0.9383\n",
      "Seen so far: 544 samples\n",
      "Training acc (for one batch): 0.4669\n",
      "Training loss (for one batch) at step 32: 0.9496\n",
      "Seen so far: 1056 samples\n",
      "Training acc (for one batch): 0.4627\n",
      "Test acc: 0.4722\n",
      "\n",
      "Start of epoch 3\n",
      "Training loss (for one batch) at step 16: 0.9383\n",
      "Seen so far: 544 samples\n",
      "Training acc (for one batch): 0.4412\n",
      "Training loss (for one batch) at step 32: 0.7678\n",
      "Seen so far: 1056 samples\n",
      "Training acc (for one batch): 0.4627\n",
      "Test acc: 0.4792\n",
      "\n",
      "Start of epoch 4\n",
      "Training loss (for one batch) at step 16: 1.0008\n",
      "Seen so far: 544 samples\n",
      "Training acc (for one batch): 0.4449\n",
      "Training loss (for one batch) at step 32: 0.9496\n",
      "Seen so far: 1056 samples\n",
      "Training acc (for one batch): 0.4627\n",
      "Test acc: 0.5069\n",
      "\n",
      "Start of epoch 5\n",
      "Training loss (for one batch) at step 16: 0.9383\n",
      "Seen so far: 544 samples\n",
      "Training acc (for one batch): 0.4779\n",
      "Training loss (for one batch) at step 32: 0.8587\n",
      "Seen so far: 1056 samples\n",
      "Training acc (for one batch): 0.4627\n",
      "Test acc: 0.4236\n",
      "\n",
      "Start of epoch 6\n",
      "Training loss (for one batch) at step 16: 0.8758\n",
      "Seen so far: 544 samples\n",
      "Training acc (for one batch): 0.5037\n",
      "Training loss (for one batch) at step 32: 0.7678\n",
      "Seen so far: 1056 samples\n",
      "Training acc (for one batch): 0.4646\n",
      "Test acc: 0.4792\n",
      "\n",
      "Start of epoch 7\n",
      "Training loss (for one batch) at step 16: 0.7508\n",
      "Seen so far: 544 samples\n",
      "Training acc (for one batch): 0.4779\n",
      "Training loss (for one batch) at step 32: 0.9496\n",
      "Seen so far: 1056 samples\n",
      "Training acc (for one batch): 0.4627\n",
      "Test acc: 0.4653\n",
      "\n",
      "Start of epoch 8\n",
      "Training loss (for one batch) at step 16: 1.0633\n",
      "Seen so far: 544 samples\n",
      "Training acc (for one batch): 0.4596\n",
      "Training loss (for one batch) at step 32: 0.9496\n",
      "Seen so far: 1056 samples\n",
      "Training acc (for one batch): 0.4627\n",
      "Test acc: 0.5208\n",
      "\n",
      "Start of epoch 9\n",
      "Training loss (for one batch) at step 16: 0.9383\n",
      "Seen so far: 544 samples\n",
      "Training acc (for one batch): 0.4816\n",
      "Training loss (for one batch) at step 32: 0.6769\n",
      "Seen so far: 1056 samples\n",
      "Training acc (for one batch): 0.4627\n",
      "Test acc: 0.4653\n",
      "\n",
      "Start of epoch 10\n",
      "Training loss (for one batch) at step 16: 0.8758\n",
      "Seen so far: 544 samples\n",
      "Training acc (for one batch): 0.4522\n",
      "Training loss (for one batch) at step 32: 1.0405\n",
      "Seen so far: 1056 samples\n",
      "Training acc (for one batch): 0.4627\n",
      "Test acc: 0.4583\n",
      "Time taken: 39.84s\n"
     ]
    }
   ],
   "source": [
    "import time\n",
    "\n",
    "training_loss_values=[]\n",
    "training_accuracy_values=[]\n",
    "test_accuracy_values=[]\n",
    "\n",
    "start = time.time()\n",
    "epochs = 10\n",
    "for epoch in range(epochs):\n",
    "    print(\"\\nStart of epoch %d\" % (epoch+1,))\n",
    "    \n",
    "\n",
    "    # Iterate over the batches of the dataset.\n",
    "    for step, (x_batch_train, y_batch_train) in enumerate(train_ds):\n",
    "\n",
    "        # Open a GradientTape to record the operations run\n",
    "        # during the forward pass, which enables auto-differentiation.\n",
    "        with tf.GradientTape() as tape:\n",
    "\n",
    "            # Run the forward pass of the layer.\n",
    "            # The operations that the layer applies\n",
    "            # to its inputs are going to be recorded\n",
    "            # on the GradientTape.\n",
    "            logits = model(x_batch_train)  # Logits for this minibatch\n",
    "\n",
    "            # Compute the loss value for this minibatch.\n",
    "            loss_value = loss_fn(y_batch_train, logits)\n",
    "            \n",
    "\n",
    "        # Use the gradient tape to automatically retrieve\n",
    "        # the gradients of the trainable variables with respect to the loss.\n",
    "        grads = tape.gradient(loss_value, [conv1_weights, bias_1, conv2_weights, bias_2, fc_weights, bias_fc, w_out, b_out])\n",
    "\n",
    "        # Run one step of gradient descent by updating\n",
    "        # the value of the variables to minimize the loss.\n",
    "        optimizer.apply_gradients(zip(grads, [conv1_weights, bias_1, conv2_weights, bias_2, fc_weights, bias_fc, w_out, b_out]))\n",
    "        \n",
    "        # Update training metric.\n",
    "        train_acc_metric.update_state(y_batch_train, logits)\n",
    "        \n",
    "        # Log every 1874 batches.\n",
    "        if step%16 == 0 and step!=0:\n",
    "            print(\n",
    "                \"Training loss (for one batch) at step %d: %.4f\"\n",
    "                % (step, float(loss_value))\n",
    "            )\n",
    "            print(\"Seen so far: %s samples\" % ((step + 1) * 32))\n",
    "            \n",
    "         # Display metrics at the end of every 1874 batch\n",
    "        if step%16==0 and step!=0:\n",
    "            train_acc = train_acc_metric.result()\n",
    "            print(\"Training acc (for one batch): %.4f\" % (float(train_acc),))\n",
    "\n",
    "    # Run a test loop at the end of each epoch.\n",
    "    for step, (x_batch_test, y_batch_test) in enumerate(test_ds):\n",
    "        predictions = model(x_batch_test)\n",
    "        #Update test metrics\n",
    "        test_acc_metric.update_state(y_batch_test, predictions)\n",
    "        if step%8==0 and step!=0:\n",
    "            test_acc = test_acc_metric.result()\n",
    "            print(\"Test acc: %.4f\" % (float(test_acc),))\n",
    "    \n",
    "    training_loss_values.append(float(loss_value))\n",
    "    training_accuracy_values.append(float(train_acc_metric.result()))\n",
    "    test_accuracy_values.append(float(test_acc_metric.result()))\n",
    "    # Reset metrics at the end of each epoch\n",
    "    train_acc_metric.reset_states()\n",
    "    test_acc_metric.reset_states()\n",
    "    \n",
    "print(\"Time taken: %.2fs\" % (time.time() - start))  "
   ]
  },
  {
   "cell_type": "markdown",
   "metadata": {},
   "source": [
    "## Model Evaluation"
   ]
  },
  {
   "cell_type": "code",
   "execution_count": 98,
   "metadata": {},
   "outputs": [
    {
     "data": {
      "text/plain": [
       "<tf.Tensor: shape=(), dtype=float32, numpy=0.8289567>"
      ]
     },
     "execution_count": 98,
     "metadata": {},
     "output_type": "execute_result"
    }
   ],
   "source": [
    "# Loss\n",
    "loss_fn(y_test, model(X_test))"
   ]
  },
  {
   "cell_type": "code",
   "execution_count": 99,
   "metadata": {},
   "outputs": [
    {
     "data": {
      "text/plain": [
       "array([0.47982063])"
      ]
     },
     "execution_count": 99,
     "metadata": {},
     "output_type": "execute_result"
    }
   ],
   "source": [
    "# Calculate accuracy by hand\n",
    "sum(tf.argmax(model(X_test), axis=1).numpy().reshape(-1,1)==y_test)/y_test.shape[0]"
   ]
  },
  {
   "cell_type": "code",
   "execution_count": 100,
   "metadata": {},
   "outputs": [
    {
     "data": {
      "text/plain": [
       "(10, 10, 10)"
      ]
     },
     "execution_count": 100,
     "metadata": {},
     "output_type": "execute_result"
    }
   ],
   "source": [
    "len(training_loss_values), len(training_accuracy_values), len(test_accuracy_values)"
   ]
  },
  {
   "cell_type": "code",
   "execution_count": 101,
   "metadata": {},
   "outputs": [
    {
     "data": {
      "image/png": "[encoded data removed]",
      "text/plain": [
       "<Figure size 432x288 with 1 Axes>"
      ]
     },
     "metadata": {
      "needs_background": "light"
     },
     "output_type": "display_data"
    }
   ],
   "source": [
    "_ = plt.plot(range(1,len(training_loss_values)+1), np.array(training_loss_values), 'r')\n",
    "_ = plt.xlabel(\"Instance\")\n",
    "_ = plt.ylabel(\"Loss\")\n",
    "_ = plt.title(\"Training Loss\")\n",
    "plt.show()"
   ]
  },
  {
   "cell_type": "code",
   "execution_count": 102,
   "metadata": {},
   "outputs": [
    {
     "data": {
      "image/png": "[encoded data removed]",
      "text/plain": [
       "<Figure size 432x288 with 1 Axes>"
      ]
     },
     "metadata": {
      "needs_background": "light"
     },
     "output_type": "display_data"
    }
   ],
   "source": [
    "_ = plt.plot(range(1,len(training_accuracy_values)+1), np.array(training_accuracy_values), 'r', label='Training Accuracy')\n",
    "_ = plt.plot(range(1,len(test_accuracy_values)+1), np.array(test_accuracy_values), 'b', label=\"Test Accuracy\")\n",
    "_ = plt.xlabel(\"Epoch\")\n",
    "_ = plt.ylabel(\"Accuracy\")\n",
    "_ = plt.title(\"Accuracy\")\n",
    "_ = plt.legend(loc='best')\n",
    "plt.show()"
   ]
  },
  {
   "cell_type": "code",
   "execution_count": null,
   "metadata": {},
   "outputs": [],
   "source": []
  }
 ],
 "metadata": {
  "kernelspec": {
   "display_name": "Python 3",
   "language": "python",
   "name": "python3"
  },
  "language_info": {
   "codemirror_mode": {
    "name": "ipython",
    "version": 3
   },
   "file_extension": ".py",
   "mimetype": "text/x-python",
   "name": "python",
   "nbconvert_exporter": "python",
   "pygments_lexer": "ipython3",
   "version": "3.6.8"
  }
 },
 "nbformat": 4,
 "nbformat_minor": 4
}
